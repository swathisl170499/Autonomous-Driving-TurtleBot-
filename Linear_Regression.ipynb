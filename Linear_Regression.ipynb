{
  "nbformat": 4,
  "nbformat_minor": 0,
  "metadata": {
    "colab": {
      "provenance": [],
      "authorship_tag": "ABX9TyNLNLNmOXgihrvs0sgTPBai",
      "include_colab_link": true
    },
    "kernelspec": {
      "name": "python3",
      "display_name": "Python 3"
    }
  },
  "cells": [
    {
      "cell_type": "markdown",
      "metadata": {
        "id": "view-in-github",
        "colab_type": "text"
      },
      "source": [
        "<a href=\"https://colab.research.google.com/github/swathisl170499/Autonomous-Driving-TurtleBot-/blob/main/Linear_Regression.ipynb\" target=\"_parent\"><img src=\"https://colab.research.google.com/assets/colab-badge.svg\" alt=\"Open In Colab\"/></a>"
      ]
    },
    {
      "cell_type": "code",
      "metadata": {
        "colab": {
          "base_uri": "https://localhost:8080/",
          "height": 969
        },
        "id": "7hVGEBsUdodZ",
        "outputId": "3451d6d1-77e2-4f76-adb6-843d8ff468b1"
      },
      "source": [
        "import pandas as pd\n",
        "import numpy as np\n",
        "import matplotlib.pyplot as plt\n",
        "df=pd.read_csv('Insurance Claims.csv')\n",
        "df"
      ],
      "execution_count": null,
      "outputs": [
        {
          "output_type": "execute_result",
          "data": {
            "text/html": [
              "<div>\n",
              "<style scoped>\n",
              "    .dataframe tbody tr th:only-of-type {\n",
              "        vertical-align: middle;\n",
              "    }\n",
              "\n",
              "    .dataframe tbody tr th {\n",
              "        vertical-align: top;\n",
              "    }\n",
              "\n",
              "    .dataframe thead th {\n",
              "        text-align: right;\n",
              "    }\n",
              "</style>\n",
              "<table border=\"1\" class=\"dataframe\">\n",
              "  <thead>\n",
              "    <tr style=\"text-align: right;\">\n",
              "      <th></th>\n",
              "      <th>Age</th>\n",
              "      <th>Claims</th>\n",
              "    </tr>\n",
              "  </thead>\n",
              "  <tbody>\n",
              "    <tr>\n",
              "      <th>0</th>\n",
              "      <td>41</td>\n",
              "      <td>12250</td>\n",
              "    </tr>\n",
              "    <tr>\n",
              "      <th>1</th>\n",
              "      <td>42</td>\n",
              "      <td>12750</td>\n",
              "    </tr>\n",
              "    <tr>\n",
              "      <th>2</th>\n",
              "      <td>43</td>\n",
              "      <td>12600</td>\n",
              "    </tr>\n",
              "    <tr>\n",
              "      <th>3</th>\n",
              "      <td>43</td>\n",
              "      <td>12900</td>\n",
              "    </tr>\n",
              "    <tr>\n",
              "      <th>4</th>\n",
              "      <td>43</td>\n",
              "      <td>13000</td>\n",
              "    </tr>\n",
              "    <tr>\n",
              "      <th>5</th>\n",
              "      <td>45</td>\n",
              "      <td>12400</td>\n",
              "    </tr>\n",
              "    <tr>\n",
              "      <th>6</th>\n",
              "      <td>45</td>\n",
              "      <td>12500</td>\n",
              "    </tr>\n",
              "    <tr>\n",
              "      <th>7</th>\n",
              "      <td>45</td>\n",
              "      <td>12750</td>\n",
              "    </tr>\n",
              "    <tr>\n",
              "      <th>8</th>\n",
              "      <td>49</td>\n",
              "      <td>13000</td>\n",
              "    </tr>\n",
              "    <tr>\n",
              "      <th>9</th>\n",
              "      <td>49</td>\n",
              "      <td>13050</td>\n",
              "    </tr>\n",
              "    <tr>\n",
              "      <th>10</th>\n",
              "      <td>50</td>\n",
              "      <td>12750</td>\n",
              "    </tr>\n",
              "    <tr>\n",
              "      <th>11</th>\n",
              "      <td>51</td>\n",
              "      <td>12750</td>\n",
              "    </tr>\n",
              "    <tr>\n",
              "      <th>12</th>\n",
              "      <td>51</td>\n",
              "      <td>13200</td>\n",
              "    </tr>\n",
              "    <tr>\n",
              "      <th>13</th>\n",
              "      <td>52</td>\n",
              "      <td>13400</td>\n",
              "    </tr>\n",
              "    <tr>\n",
              "      <th>14</th>\n",
              "      <td>53</td>\n",
              "      <td>13400</td>\n",
              "    </tr>\n",
              "    <tr>\n",
              "      <th>15</th>\n",
              "      <td>55</td>\n",
              "      <td>13400</td>\n",
              "    </tr>\n",
              "    <tr>\n",
              "      <th>16</th>\n",
              "      <td>56</td>\n",
              "      <td>13200</td>\n",
              "    </tr>\n",
              "    <tr>\n",
              "      <th>17</th>\n",
              "      <td>56</td>\n",
              "      <td>13250</td>\n",
              "    </tr>\n",
              "    <tr>\n",
              "      <th>18</th>\n",
              "      <td>56</td>\n",
              "      <td>13600</td>\n",
              "    </tr>\n",
              "    <tr>\n",
              "      <th>19</th>\n",
              "      <td>57</td>\n",
              "      <td>13200</td>\n",
              "    </tr>\n",
              "    <tr>\n",
              "      <th>20</th>\n",
              "      <td>57</td>\n",
              "      <td>14000</td>\n",
              "    </tr>\n",
              "    <tr>\n",
              "      <th>21</th>\n",
              "      <td>58</td>\n",
              "      <td>13500</td>\n",
              "    </tr>\n",
              "    <tr>\n",
              "      <th>22</th>\n",
              "      <td>60</td>\n",
              "      <td>13800</td>\n",
              "    </tr>\n",
              "    <tr>\n",
              "      <th>23</th>\n",
              "      <td>60</td>\n",
              "      <td>13950</td>\n",
              "    </tr>\n",
              "    <tr>\n",
              "      <th>24</th>\n",
              "      <td>61</td>\n",
              "      <td>13500</td>\n",
              "    </tr>\n",
              "    <tr>\n",
              "      <th>25</th>\n",
              "      <td>61</td>\n",
              "      <td>13600</td>\n",
              "    </tr>\n",
              "    <tr>\n",
              "      <th>26</th>\n",
              "      <td>62</td>\n",
              "      <td>13250</td>\n",
              "    </tr>\n",
              "    <tr>\n",
              "      <th>27</th>\n",
              "      <td>62</td>\n",
              "      <td>13750</td>\n",
              "    </tr>\n",
              "    <tr>\n",
              "      <th>28</th>\n",
              "      <td>64</td>\n",
              "      <td>14000</td>\n",
              "    </tr>\n",
              "    <tr>\n",
              "      <th>29</th>\n",
              "      <td>65</td>\n",
              "      <td>13900</td>\n",
              "    </tr>\n",
              "  </tbody>\n",
              "</table>\n",
              "</div>"
            ],
            "text/plain": [
              "    Age  Claims\n",
              "0    41   12250\n",
              "1    42   12750\n",
              "2    43   12600\n",
              "3    43   12900\n",
              "4    43   13000\n",
              "5    45   12400\n",
              "6    45   12500\n",
              "7    45   12750\n",
              "8    49   13000\n",
              "9    49   13050\n",
              "10   50   12750\n",
              "11   51   12750\n",
              "12   51   13200\n",
              "13   52   13400\n",
              "14   53   13400\n",
              "15   55   13400\n",
              "16   56   13200\n",
              "17   56   13250\n",
              "18   56   13600\n",
              "19   57   13200\n",
              "20   57   14000\n",
              "21   58   13500\n",
              "22   60   13800\n",
              "23   60   13950\n",
              "24   61   13500\n",
              "25   61   13600\n",
              "26   62   13250\n",
              "27   62   13750\n",
              "28   64   14000\n",
              "29   65   13900"
            ]
          },
          "metadata": {
            "tags": []
          },
          "execution_count": 41
        }
      ]
    },
    {
      "cell_type": "code",
      "metadata": {
        "colab": {
          "base_uri": "https://localhost:8080/"
        },
        "id": "OVMtoPRfd7wD",
        "outputId": "4b44f286-dc4c-4e61-f1b0-3e25b3a06a0d"
      },
      "source": [
        "a=np.corrcoef(df['Age'],df['Claims'])\n",
        "print(a)"
      ],
      "execution_count": null,
      "outputs": [
        {
          "output_type": "stream",
          "text": [
            "[[1.         0.86885588]\n",
            " [0.86885588 1.        ]]\n"
          ],
          "name": "stdout"
        }
      ]
    },
    {
      "cell_type": "code",
      "metadata": {
        "colab": {
          "base_uri": "https://localhost:8080/"
        },
        "id": "A_3MNZOsfdaP",
        "outputId": "759def17-8d8d-4a1d-a5c4-03c4e76b4124"
      },
      "source": [
        "x=df['Age']\n",
        "y=df['Claims']\n",
        "x.corr(y)"
      ],
      "execution_count": null,
      "outputs": [
        {
          "output_type": "execute_result",
          "data": {
            "text/plain": [
              "0.8688558835497731"
            ]
          },
          "metadata": {
            "tags": []
          },
          "execution_count": 3
        }
      ]
    },
    {
      "cell_type": "code",
      "metadata": {
        "colab": {
          "base_uri": "https://localhost:8080/"
        },
        "id": "9UUXMepCgzaw",
        "outputId": "f53941f9-4cab-49f6-f35c-314107505c8b"
      },
      "source": [
        "y.corr(x)"
      ],
      "execution_count": null,
      "outputs": [
        {
          "output_type": "execute_result",
          "data": {
            "text/plain": [
              "0.8688558835497731"
            ]
          },
          "metadata": {
            "tags": []
          },
          "execution_count": 4
        }
      ]
    },
    {
      "cell_type": "code",
      "metadata": {
        "colab": {
          "base_uri": "https://localhost:8080/",
          "height": 265
        },
        "id": "09af2aKYg-j1",
        "outputId": "2ac95708-be71-4cd3-e5c4-055139a1b458"
      },
      "source": [
        "plt.scatter(x,y)\n",
        "plt.show()"
      ],
      "execution_count": null,
      "outputs": [
        {
          "output_type": "display_data",
          "data": {
            "image/png": "[encoded data removed]",
            "text/plain": [
              "<Figure size 432x288 with 1 Axes>"
            ]
          },
          "metadata": {
            "tags": [],
            "needs_background": "light"
          }
        }
      ]
    },
    {
      "cell_type": "code",
      "metadata": {
        "colab": {
          "base_uri": "https://localhost:8080/"
        },
        "id": "GbBy7Mf3o9sZ",
        "outputId": "e7bd61f5-c302-4ad6-bc62-96adea6a2047"
      },
      "source": [
        "x=df.iloc[:,0]\n",
        "y=df.iloc[:,1]\n",
        "print(x)"
      ],
      "execution_count": null,
      "outputs": [
        {
          "output_type": "stream",
          "text": [
            "0     41\n",
            "1     42\n",
            "2     43\n",
            "3     43\n",
            "4     43\n",
            "5     45\n",
            "6     45\n",
            "7     45\n",
            "8     49\n",
            "9     49\n",
            "10    50\n",
            "11    51\n",
            "12    51\n",
            "13    52\n",
            "14    53\n",
            "15    55\n",
            "16    56\n",
            "17    56\n",
            "18    56\n",
            "19    57\n",
            "20    57\n",
            "21    58\n",
            "22    60\n",
            "23    60\n",
            "24    61\n",
            "25    61\n",
            "26    62\n",
            "27    62\n",
            "28    64\n",
            "29    65\n",
            "Name: Age, dtype: int64\n"
          ],
          "name": "stdout"
        }
      ]
    },
    {
      "cell_type": "code",
      "metadata": {
        "colab": {
          "base_uri": "https://localhost:8080/"
        },
        "id": "SzInXSIBpeWg",
        "outputId": "db02d140-b657-4f54-ba40-65eabb6a36c2"
      },
      "source": [
        "print(y)"
      ],
      "execution_count": null,
      "outputs": [
        {
          "output_type": "stream",
          "text": [
            "0     12250\n",
            "1     12750\n",
            "2     12600\n",
            "3     12900\n",
            "4     13000\n",
            "5     12400\n",
            "6     12500\n",
            "7     12750\n",
            "8     13000\n",
            "9     13050\n",
            "10    12750\n",
            "11    12750\n",
            "12    13200\n",
            "13    13400\n",
            "14    13400\n",
            "15    13400\n",
            "16    13200\n",
            "17    13250\n",
            "18    13600\n",
            "19    13200\n",
            "20    14000\n",
            "21    13500\n",
            "22    13800\n",
            "23    13950\n",
            "24    13500\n",
            "25    13600\n",
            "26    13250\n",
            "27    13750\n",
            "28    14000\n",
            "29    13900\n",
            "Name: Claims, dtype: int64\n"
          ],
          "name": "stdout"
        }
      ]
    },
    {
      "cell_type": "code",
      "metadata": {
        "colab": {
          "base_uri": "https://localhost:8080/"
        },
        "id": "Lzh9lD_ypwON",
        "outputId": "fd5f67e2-c790-4355-a911-dc36f9a4c1ad"
      },
      "source": [
        "from sklearn.model_selection import train_test_split\n",
        "x_train,x_test,y_train,y_test=train_test_split(x,y,test_size=0.2,random_state=0)\n",
        "print(x_train)\n",
        "print(x_test)"
      ],
      "execution_count": null,
      "outputs": [
        {
          "output_type": "stream",
          "text": [
            "27    62\n",
            "11    51\n",
            "17    56\n",
            "22    60\n",
            "5     45\n",
            "16    56\n",
            "8     49\n",
            "14    53\n",
            "23    60\n",
            "20    57\n",
            "1     42\n",
            "29    65\n",
            "6     45\n",
            "4     43\n",
            "18    56\n",
            "19    57\n",
            "9     49\n",
            "7     45\n",
            "25    61\n",
            "3     43\n",
            "0     41\n",
            "21    58\n",
            "15    55\n",
            "12    51\n",
            "Name: Age, dtype: int64\n",
            "2     43\n",
            "28    64\n",
            "13    52\n",
            "10    50\n",
            "26    62\n",
            "24    61\n",
            "Name: Age, dtype: int64\n"
          ],
          "name": "stdout"
        }
      ]
    },
    {
      "cell_type": "code",
      "metadata": {
        "colab": {
          "base_uri": "https://localhost:8080/"
        },
        "id": "X95bDKf2rnjO",
        "outputId": "2e2646d9-890e-45a1-c490-0e1299a37915"
      },
      "source": [
        "print(y_train)\n",
        "print(y_test)"
      ],
      "execution_count": null,
      "outputs": [
        {
          "output_type": "stream",
          "text": [
            "27    13750\n",
            "11    12750\n",
            "17    13250\n",
            "22    13800\n",
            "5     12400\n",
            "16    13200\n",
            "8     13000\n",
            "14    13400\n",
            "23    13950\n",
            "20    14000\n",
            "1     12750\n",
            "29    13900\n",
            "6     12500\n",
            "4     13000\n",
            "18    13600\n",
            "19    13200\n",
            "9     13050\n",
            "7     12750\n",
            "25    13600\n",
            "3     12900\n",
            "0     12250\n",
            "21    13500\n",
            "15    13400\n",
            "12    13200\n",
            "Name: Claims, dtype: int64\n",
            "2     12600\n",
            "28    14000\n",
            "13    13400\n",
            "10    12750\n",
            "26    13250\n",
            "24    13500\n",
            "Name: Claims, dtype: int64\n"
          ],
          "name": "stdout"
        }
      ]
    },
    {
      "cell_type": "code",
      "metadata": {
        "colab": {
          "base_uri": "https://localhost:8080/"
        },
        "id": "4EAil1mvrsvf",
        "outputId": "a248e62f-3f83-46e4-f1b8-92ff30342982"
      },
      "source": [
        "print(x_train.shape)\n",
        "print(x_test.shape)"
      ],
      "execution_count": null,
      "outputs": [
        {
          "output_type": "stream",
          "text": [
            "(24,)\n",
            "(6,)\n"
          ],
          "name": "stdout"
        }
      ]
    },
    {
      "cell_type": "code",
      "metadata": {
        "colab": {
          "base_uri": "https://localhost:8080/"
        },
        "id": "XchccInjsaEW",
        "outputId": "61ec1d7e-c6d1-42ed-d060-729b6e58eac4"
      },
      "source": [
        "from sklearn.linear_model import LinearRegression\n",
        "regressor=LinearRegression()\n",
        "x_train=np.array(x_train).reshape(-1,1)\n",
        "y_train=np.array(y_train).reshape(-1,1)\n",
        "print(x_train)\n",
        "print(y_train)\n",
        "regressor.fit(x_train,y_train)"
      ],
      "execution_count": null,
      "outputs": [
        {
          "output_type": "stream",
          "text": [
            "[[62]\n",
            " [51]\n",
            " [56]\n",
            " [60]\n",
            " [45]\n",
            " [56]\n",
            " [49]\n",
            " [53]\n",
            " [60]\n",
            " [57]\n",
            " [42]\n",
            " [65]\n",
            " [45]\n",
            " [43]\n",
            " [56]\n",
            " [57]\n",
            " [49]\n",
            " [45]\n",
            " [61]\n",
            " [43]\n",
            " [41]\n",
            " [58]\n",
            " [55]\n",
            " [51]]\n",
            "[[13750]\n",
            " [12750]\n",
            " [13250]\n",
            " [13800]\n",
            " [12400]\n",
            " [13200]\n",
            " [13000]\n",
            " [13400]\n",
            " [13950]\n",
            " [14000]\n",
            " [12750]\n",
            " [13900]\n",
            " [12500]\n",
            " [13000]\n",
            " [13600]\n",
            " [13200]\n",
            " [13050]\n",
            " [12750]\n",
            " [13600]\n",
            " [12900]\n",
            " [12250]\n",
            " [13500]\n",
            " [13400]\n",
            " [13200]]\n"
          ],
          "name": "stdout"
        },
        {
          "output_type": "execute_result",
          "data": {
            "text/plain": [
              "LinearRegression(copy_X=True, fit_intercept=True, n_jobs=None, normalize=False)"
            ]
          },
          "metadata": {
            "tags": []
          },
          "execution_count": 45
        }
      ]
    },
    {
      "cell_type": "code",
      "metadata": {
        "colab": {
          "base_uri": "https://localhost:8080/"
        },
        "id": "LsANWoektCPH",
        "outputId": "95e5292c-75ef-493c-c6d0-c8ac8ccb115b"
      },
      "source": [
        "x_test=np.array(x_test).reshape(-1,1)\n",
        "y_test=np.array(y_test).reshape(-1,1)\n",
        "print(x_test)\n",
        "print(y_test)\n",
        "regressor.fit(x_test,y_test)"
      ],
      "execution_count": null,
      "outputs": [
        {
          "output_type": "stream",
          "text": [
            "[[43]\n",
            " [64]\n",
            " [52]\n",
            " [50]\n",
            " [62]\n",
            " [61]]\n",
            "[[12600]\n",
            " [14000]\n",
            " [13400]\n",
            " [12750]\n",
            " [13250]\n",
            " [13500]]\n"
          ],
          "name": "stdout"
        },
        {
          "output_type": "execute_result",
          "data": {
            "text/plain": [
              "LinearRegression(copy_X=True, fit_intercept=True, n_jobs=None, normalize=False)"
            ]
          },
          "metadata": {
            "tags": []
          },
          "execution_count": 46
        }
      ]
    },
    {
      "cell_type": "code",
      "metadata": {
        "colab": {
          "base_uri": "https://localhost:8080/"
        },
        "id": "ix8NszhswbbD",
        "outputId": "9085da46-a5e4-450c-fe81-37f3acde625c"
      },
      "source": [
        "print(regressor.intercept_)"
      ],
      "execution_count": null,
      "outputs": [
        {
          "output_type": "stream",
          "text": [
            "[10332.91262136]\n"
          ],
          "name": "stdout"
        }
      ]
    },
    {
      "cell_type": "code",
      "metadata": {
        "colab": {
          "base_uri": "https://localhost:8080/"
        },
        "id": "Adl8yZYDz9O6",
        "outputId": "e680b58c-94a4-48e3-abd4-9cf2ffe9c529"
      },
      "source": [
        "regressor.predict(e)#e=x_test=age\n",
        "y_pred=regressor.predict(e)#e=x_test\n",
        "print(y_pred)\n",
        "print(f)\n",
        "\n",
        "#doubt"
      ],
      "execution_count": null,
      "outputs": [
        {
          "output_type": "stream",
          "text": [
            "[[12599.80582524]\n",
            " [13706.89320388]\n",
            " [13074.27184466]\n",
            " [12968.83495146]\n",
            " [13601.45631068]\n",
            " [13548.73786408]]\n",
            "[[12600]\n",
            " [14000]\n",
            " [13400]\n",
            " [12750]\n",
            " [13250]\n",
            " [13500]]\n"
          ],
          "name": "stdout"
        }
      ]
    },
    {
      "cell_type": "code",
      "metadata": {
        "colab": {
          "base_uri": "https://localhost:8080/"
        },
        "id": "WtNLMezv1lia",
        "outputId": "00939976-75e2-4da7-f837-8e8e4eb4956d"
      },
      "source": [
        "x_pred=regressor.predict(f)\n",
        "print(x_pred)\n",
        "print(f)#f=x_test"
      ],
      "execution_count": null,
      "outputs": [
        {
          "output_type": "stream",
          "text": [
            "[[674585.33980583]\n",
            " [748391.16504854]\n",
            " [716760.09708738]\n",
            " [682493.10679612]\n",
            " [708852.33009709]\n",
            " [722031.94174757]]\n",
            "[[12600]\n",
            " [14000]\n",
            " [13400]\n",
            " [12750]\n",
            " [13250]\n",
            " [13500]]\n"
          ],
          "name": "stdout"
        }
      ]
    },
    {
      "cell_type": "code",
      "metadata": {
        "id": "7pRcvLN54R3Z",
        "colab": {
          "base_uri": "https://localhost:8080/"
        },
        "outputId": "7c0a2ae7-d349-44d9-cd03-8293b06a3b92"
      },
      "source": [
        "from sklearn import metrics\n",
        "print('Mean Absolute error:',metrics.mean_absolute_error(f,y_pred))"
      ],
      "execution_count": null,
      "outputs": [
        {
          "output_type": "stream",
          "text": [
            "Mean Absolute error: 206.34304207119717\n"
          ],
          "name": "stdout"
        }
      ]
    },
    {
      "cell_type": "code",
      "metadata": {
        "colab": {
          "base_uri": "https://localhost:8080/"
        },
        "id": "j8jobJrxgxOu",
        "outputId": "eaaac92b-f89c-45e1-dcb7-21f4f8f9cb86"
      },
      "source": [
        "print(\"Mean Squared error:\",metrics.mean_squared_error(f,y_pred))"
      ],
      "execution_count": null,
      "outputs": [
        {
          "output_type": "stream",
          "text": [
            "Mean Squared error: 60966.01941747571\n"
          ],
          "name": "stdout"
        }
      ]
    },
    {
      "cell_type": "code",
      "metadata": {
        "colab": {
          "base_uri": "https://localhost:8080/"
        },
        "id": "06fKyePtg-Ps",
        "outputId": "663d49e6-4708-4015-f600-62de8afd0014"
      },
      "source": [
        "print(\"Root Mean Squared error:\",np.sqrt(metrics.mean_squared_error(f,y_pred)))"
      ],
      "execution_count": null,
      "outputs": [
        {
          "output_type": "stream",
          "text": [
            "Root Mean Squared error: 246.91297944311415\n"
          ],
          "name": "stdout"
        }
      ]
    },
    {
      "cell_type": "code",
      "metadata": {
        "id": "JSoRYyzQhLyw",
        "colab": {
          "base_uri": "https://localhost:8080/",
          "height": 294
        },
        "outputId": "02c19ecd-b36d-486f-9d9d-f6330fecf926"
      },
      "source": [
        "df.describe()"
      ],
      "execution_count": null,
      "outputs": [
        {
          "output_type": "execute_result",
          "data": {
            "text/html": [
              "<div>\n",
              "<style scoped>\n",
              "    .dataframe tbody tr th:only-of-type {\n",
              "        vertical-align: middle;\n",
              "    }\n",
              "\n",
              "    .dataframe tbody tr th {\n",
              "        vertical-align: top;\n",
              "    }\n",
              "\n",
              "    .dataframe thead th {\n",
              "        text-align: right;\n",
              "    }\n",
              "</style>\n",
              "<table border=\"1\" class=\"dataframe\">\n",
              "  <thead>\n",
              "    <tr style=\"text-align: right;\">\n",
              "      <th></th>\n",
              "      <th>Age</th>\n",
              "      <th>Claims</th>\n",
              "    </tr>\n",
              "  </thead>\n",
              "  <tbody>\n",
              "    <tr>\n",
              "      <th>count</th>\n",
              "      <td>30.000000</td>\n",
              "      <td>30.000000</td>\n",
              "    </tr>\n",
              "    <tr>\n",
              "      <th>mean</th>\n",
              "      <td>53.066667</td>\n",
              "      <td>13220.000000</td>\n",
              "    </tr>\n",
              "    <tr>\n",
              "      <th>std</th>\n",
              "      <td>7.305800</td>\n",
              "      <td>491.408953</td>\n",
              "    </tr>\n",
              "    <tr>\n",
              "      <th>min</th>\n",
              "      <td>41.000000</td>\n",
              "      <td>12250.000000</td>\n",
              "    </tr>\n",
              "    <tr>\n",
              "      <th>25%</th>\n",
              "      <td>46.000000</td>\n",
              "      <td>12787.500000</td>\n",
              "    </tr>\n",
              "    <tr>\n",
              "      <th>50%</th>\n",
              "      <td>54.000000</td>\n",
              "      <td>13225.000000</td>\n",
              "    </tr>\n",
              "    <tr>\n",
              "      <th>75%</th>\n",
              "      <td>59.500000</td>\n",
              "      <td>13575.000000</td>\n",
              "    </tr>\n",
              "    <tr>\n",
              "      <th>max</th>\n",
              "      <td>65.000000</td>\n",
              "      <td>14000.000000</td>\n",
              "    </tr>\n",
              "  </tbody>\n",
              "</table>\n",
              "</div>"
            ],
            "text/plain": [
              "             Age        Claims\n",
              "count  30.000000     30.000000\n",
              "mean   53.066667  13220.000000\n",
              "std     7.305800    491.408953\n",
              "min    41.000000  12250.000000\n",
              "25%    46.000000  12787.500000\n",
              "50%    54.000000  13225.000000\n",
              "75%    59.500000  13575.000000\n",
              "max    65.000000  14000.000000"
            ]
          },
          "metadata": {
            "tags": []
          },
          "execution_count": 35
        }
      ]
    },
    {
      "cell_type": "code",
      "metadata": {
        "colab": {
          "base_uri": "https://localhost:8080/"
        },
        "id": "UpHguLhVkXf3",
        "outputId": "4df23dfb-1730-490e-c8a9-67daa61e72f9"
      },
      "source": [
        "import numpy as np\n",
        "import statsmodels.api as sm"
      ],
      "execution_count": null,
      "outputs": [
        {
          "output_type": "stream",
          "text": [
            "/usr/local/lib/python3.6/dist-packages/statsmodels/tools/_testing.py:19: FutureWarning: pandas.util.testing is deprecated. Use the functions in the public API at pandas.testing instead.\n",
            "  import pandas.util.testing as tm\n"
          ],
          "name": "stderr"
        }
      ]
    },
    {
      "cell_type": "code",
      "metadata": {
        "id": "EpayhPP4nWkj"
      },
      "source": [
        "x=sm.add_constant(x)"
      ],
      "execution_count": null,
      "outputs": []
    },
    {
      "cell_type": "code",
      "metadata": {
        "colab": {
          "base_uri": "https://localhost:8080/"
        },
        "id": "dzqAbYBanZM3",
        "outputId": "3c6137c8-fe34-45f0-9f09-514ab9d0c9eb"
      },
      "source": [
        "print(x)"
      ],
      "execution_count": null,
      "outputs": [
        {
          "output_type": "stream",
          "text": [
            "    const  Age\n",
            "0     1.0   41\n",
            "1     1.0   42\n",
            "2     1.0   43\n",
            "3     1.0   43\n",
            "4     1.0   43\n",
            "5     1.0   45\n",
            "6     1.0   45\n",
            "7     1.0   45\n",
            "8     1.0   49\n",
            "9     1.0   49\n",
            "10    1.0   50\n",
            "11    1.0   51\n",
            "12    1.0   51\n",
            "13    1.0   52\n",
            "14    1.0   53\n",
            "15    1.0   55\n",
            "16    1.0   56\n",
            "17    1.0   56\n",
            "18    1.0   56\n",
            "19    1.0   57\n",
            "20    1.0   57\n",
            "21    1.0   58\n",
            "22    1.0   60\n",
            "23    1.0   60\n",
            "24    1.0   61\n",
            "25    1.0   61\n",
            "26    1.0   62\n",
            "27    1.0   62\n",
            "28    1.0   64\n",
            "29    1.0   65\n"
          ],
          "name": "stdout"
        }
      ]
    },
    {
      "cell_type": "code",
      "metadata": {
        "id": "ZjO9uC_0nalv"
      },
      "source": [
        "model=sm.OLS(y,x)  #ols=ordinary least square"
      ],
      "execution_count": null,
      "outputs": []
    },
    {
      "cell_type": "code",
      "metadata": {
        "colab": {
          "base_uri": "https://localhost:8080/"
        },
        "id": "_gxuaMtYnjDb",
        "outputId": "dcfcc477-3016-4608-d4cf-39a9383ecc34"
      },
      "source": [
        "results=model.fit()\n",
        "print(results.summary())"
      ],
      "execution_count": null,
      "outputs": [
        {
          "output_type": "stream",
          "text": [
            "                            OLS Regression Results                            \n",
            "==============================================================================\n",
            "Dep. Variable:                 Claims   R-squared:                       0.755\n",
            "Model:                            OLS   Adj. R-squared:                  0.746\n",
            "Method:                 Least Squares   F-statistic:                     86.24\n",
            "Date:                Fri, 19 Feb 2021   Prob (F-statistic):           4.80e-10\n",
            "Time:                        04:50:15   Log-Likelihood:                -206.89\n",
            "No. Observations:                  30   AIC:                             417.8\n",
            "Df Residuals:                      28   BIC:                             420.6\n",
            "Df Model:                           1                                         \n",
            "Covariance Type:            nonrobust                                         \n",
            "==============================================================================\n",
            "                 coef    std err          t      P>|t|      [0.025      0.975]\n",
            "------------------------------------------------------------------------------\n",
            "const       1.012e+04    336.995     30.026      0.000    9428.390    1.08e+04\n",
            "Age           58.4417      6.293      9.287      0.000      45.551      71.332\n",
            "==============================================================================\n",
            "Omnibus:                        0.099   Durbin-Watson:                   2.003\n",
            "Prob(Omnibus):                  0.952   Jarque-Bera (JB):                0.315\n",
            "Skew:                           0.049   Prob(JB):                        0.854\n",
            "Kurtosis:                       2.507   Cond. No.                         399.\n",
            "==============================================================================\n",
            "\n",
            "Warnings:\n",
            "[1] Standard Errors assume that the covariance matrix of the errors is correctly specified.\n"
          ],
          "name": "stdout"
        }
      ]
    },
    {
      "cell_type": "code",
      "metadata": {
        "id": "sHVs1O8JnrAD"
      },
      "source": [],
      "execution_count": null,
      "outputs": []
    }
  ]
}